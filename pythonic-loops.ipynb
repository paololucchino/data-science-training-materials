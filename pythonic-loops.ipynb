{
 "cells": [
  {
   "cell_type": "markdown",
   "id": "46df8676-4d75-4fae-be82-8faf3f8c4bb5",
   "metadata": {},
   "source": [
    "# 'Pythonic' loops\n",
    "Many developers, especially if coming from C++, Java, JavaScript, use multi-line for loops a lot.\n",
    "In python, the same operations can be done, without performance loss, in fewer lines and that are much more readable to others. \n",
    "\n",
    "This example takes the the task of filterig missing data values, NaN and infinite values from a numpy array.\n",
    "m1 uses multi-line for loops, the other 3 use single line loops that are more common in pyhton, and more readable.\n",
    "\n",
    "The computation time is similar."
   ]
  },
  {
   "cell_type": "code",
   "execution_count": 1,
   "id": "b3bfe108-d7d4-4894-9d3f-e2e58f951a0d",
   "metadata": {},
   "outputs": [],
   "source": [
    "import numpy as np\n",
    "nodata =0\n",
    "y = np.random.randint(-1,3, 100000)\n",
    "\n",
    "\n",
    "def m1(y):\n",
    "    # The C++, Java, JavaScript way\n",
    "    m = y.shape[0]\n",
    "    w = np.zeros(y.shape, dtype='float64')\n",
    "\n",
    "    n = 0\n",
    "    for ii in range(m):\n",
    "        if (y[ii] == nodata) or np.isnan(y[ii]) or np.isinf(y[ii]):\n",
    "            w[ii] = 0\n",
    "        else:\n",
    "            n += 1\n",
    "            w[ii] = 1\n",
    "\n",
    "\n",
    "    return w       "
   ]
  },
  {
   "cell_type": "code",
   "execution_count": 2,
   "id": "2c45fe8c-f94f-4ff8-9c34-348b55cee6f2",
   "metadata": {},
   "outputs": [],
   "source": [
    "def m2(y):\n",
    "    # Map, fitler, reduce functions\n",
    "    w = 1 - np.fromiter(\n",
    "        map(\n",
    "            lambda x: ((x == nodata) or np.isnan(x) or np.isinf(x)), \n",
    "            y\n",
    "        ),\n",
    "        dtype='float64')\n",
    "    return w"
   ]
  },
  {
   "cell_type": "code",
   "execution_count": 3,
   "id": "2d1de2ff-e708-48a6-b0a1-98fc479ebe11",
   "metadata": {},
   "outputs": [],
   "source": [
    "def m3(y):\n",
    "    # List comprehension\n",
    "    w = 1 - np.fromiter(\n",
    "        [((x == nodata) or np.isnan(x) or np.isinf(x))\n",
    "         for x in y],\n",
    "        dtype='float64')\n",
    "\n",
    "    return w"
   ]
  },
  {
   "cell_type": "code",
   "execution_count": 4,
   "id": "b89e0054-1856-46cc-a5ff-12fb4ddd3c9a",
   "metadata": {},
   "outputs": [],
   "source": [
    "def m4(y):\n",
    "    # Enumerate\n",
    "    m = y.shape[0]\n",
    "    w = np.zeros(y.shape, dtype='float64')\n",
    "\n",
    "    for i, x in enumerate(y):\n",
    "        w[i] = ((x == nodata) or np.isnan(x) or np.isinf(x))\n",
    "        \n",
    "    return 1 - w\n"
   ]
  },
  {
   "cell_type": "code",
   "execution_count": 6,
   "id": "37bd867b-9929-405c-abae-8173c917e120",
   "metadata": {},
   "outputs": [],
   "source": [
    "assert (m1(y)==m2(y)).all()\n",
    "assert (m1(y)==m3(y)).all()\n",
    "assert (m1(y)==m4(y)).all()"
   ]
  },
  {
   "cell_type": "code",
   "execution_count": 7,
   "id": "174db8cd-7a28-4679-a190-d9751486793e",
   "metadata": {},
   "outputs": [
    {
     "name": "stdout",
     "output_type": "stream",
     "text": [
      "CPU times: user 214 ms, sys: 2.99 ms, total: 217 ms\n",
      "Wall time: 217 ms\n"
     ]
    },
    {
     "data": {
      "text/plain": [
       "array([1., 1., 1., ..., 0., 1., 1.])"
      ]
     },
     "execution_count": 7,
     "metadata": {},
     "output_type": "execute_result"
    }
   ],
   "source": [
    "%time m1(y)"
   ]
  },
  {
   "cell_type": "code",
   "execution_count": 8,
   "id": "78999ed6-0c80-4c1f-b780-379e577031dd",
   "metadata": {},
   "outputs": [
    {
     "name": "stdout",
     "output_type": "stream",
     "text": [
      "CPU times: user 207 ms, sys: 2.81 ms, total: 210 ms\n",
      "Wall time: 210 ms\n"
     ]
    },
    {
     "data": {
      "text/plain": [
       "array([1., 1., 1., ..., 0., 1., 1.])"
      ]
     },
     "execution_count": 8,
     "metadata": {},
     "output_type": "execute_result"
    }
   ],
   "source": [
    "%time m2(y)"
   ]
  },
  {
   "cell_type": "code",
   "execution_count": 9,
   "id": "6ae3915f-942c-47c5-ac07-62cd5d92722d",
   "metadata": {},
   "outputs": [
    {
     "name": "stdout",
     "output_type": "stream",
     "text": [
      "CPU times: user 194 ms, sys: 2.74 ms, total: 196 ms\n",
      "Wall time: 196 ms\n"
     ]
    },
    {
     "data": {
      "text/plain": [
       "array([1., 1., 1., ..., 0., 1., 1.])"
      ]
     },
     "execution_count": 9,
     "metadata": {},
     "output_type": "execute_result"
    }
   ],
   "source": [
    "%time m3(y)"
   ]
  },
  {
   "cell_type": "code",
   "execution_count": 10,
   "id": "f151dc55-9533-483c-9565-490ce11ef022",
   "metadata": {},
   "outputs": [
    {
     "name": "stdout",
     "output_type": "stream",
     "text": [
      "CPU times: user 200 ms, sys: 2.58 ms, total: 203 ms\n",
      "Wall time: 202 ms\n"
     ]
    },
    {
     "data": {
      "text/plain": [
       "array([1., 1., 1., ..., 0., 1., 1.])"
      ]
     },
     "execution_count": 10,
     "metadata": {},
     "output_type": "execute_result"
    }
   ],
   "source": [
    "%time m4(y)"
   ]
  }
 ],
 "metadata": {
  "kernelspec": {
   "display_name": "seasmon-aws",
   "language": "python",
   "name": "seasmon-aws"
  },
  "language_info": {
   "codemirror_mode": {
    "name": "ipython",
    "version": 3
   },
   "file_extension": ".py",
   "mimetype": "text/x-python",
   "name": "python",
   "nbconvert_exporter": "python",
   "pygments_lexer": "ipython3",
   "version": "3.8.12"
  }
 },
 "nbformat": 4,
 "nbformat_minor": 5
}
